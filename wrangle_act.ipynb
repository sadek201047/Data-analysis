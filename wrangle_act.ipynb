{
 "cells": [
  {
   "cell_type": "markdown",
   "metadata": {},
   "source": [
    "### 1. Introduction:\n",
    "This project is part from Udicity data wrangling course, it will gather tweets data for tag WeRateDogs from various sources. Then we will perform wrangling and analysis for this data."
   ]
  },
  {
   "cell_type": "markdown",
   "metadata": {},
   "source": [
    "### 2. Gathering Data:\n",
    "dat will be gathered from three sources: twitter API, twitter_enchanced_archive.csv, image_predictions.tsv"
   ]
  },
  {
   "cell_type": "markdown",
   "metadata": {},
   "source": [
    "#### 2.1 Gathering Twitter API data"
   ]
  },
  {
   "cell_type": "code",
   "execution_count": null,
   "metadata": {},
   "outputs": [],
   "source": [
    "import tweepy\n",
    "from tweepy import OAuthHandler\n",
    "import json\n",
    "from timeit import default_timer as timer\n",
    "\n",
    "# Query Twitter API for each tweet in the Twitter archive and save JSON in a text file\n",
    "# These are hidden to comply with Twitter's API terms and conditions\n",
    "consumer_key = 'HIDDEN'\n",
    "consumer_secret = 'HIDDEN'\n",
    "access_token = 'HIDDEN'\n",
    "access_secret = 'HIDDEN'\n",
    "\n",
    "auth = OAuthHandler(consumer_key, consumer_secret)\n",
    "auth.set_access_token(access_token, access_secret)\n",
    "\n",
    "api = tweepy.API(auth, wait_on_rate_limit=True)\n",
    "\n",
    "# NOTE TO STUDENT WITH MOBILE VERIFICATION ISSUES:\n",
    "# df_1 is a DataFrame with the twitter_archive_enhanced.csv file. You may have to\n",
    "# change line 17 to match the name of your DataFrame with twitter_archive_enhanced.csv\n",
    "# NOTE TO REVIEWER: this student had mobile verification issues so the following\n",
    "# Twitter API code was sent to this student from a Udacity instructor\n",
    "# Tweet IDs for which to gather additional data via Twitter's API\n",
    "tweet_ids = df_1.tweet_id.values\n",
    "len(tweet_ids)\n",
    "\n",
    "# Query Twitter's API for JSON data for each tweet ID in the Twitter archive\n",
    "count = 0\n",
    "fails_dict = {}\n",
    "start = timer()\n",
    "# Save each tweet's returned JSON as a new line in a .txt file\n",
    "with open('tweet_json.txt', 'w') as outfile:\n",
    "    # This loop will likely take 20-30 minutes to run because of Twitter's rate limit\n",
    "    for tweet_id in tweet_ids:\n",
    "        count += 1\n",
    "        print(str(count) + \": \" + str(tweet_id))\n",
    "        try:\n",
    "            tweet = api.get_status(tweet_id, tweet_mode='extended')\n",
    "            print(\"Success\")\n",
    "            json.dump(tweet._json, outfile)\n",
    "            outfile.write('\\n')\n",
    "        except tweepy.TweepError as e:\n",
    "            print(\"Fail\")\n",
    "            fails_dict[tweet_id] = e\n",
    "            pass\n",
    "end = timer()\n",
    "print(end - start)\n",
    "print(fails_dict)"
   ]
  },
  {
   "cell_type": "code",
   "execution_count": 1,
   "metadata": {},
   "outputs": [],
   "source": [
    "#line by line method or reading API file\n",
    "import json\n",
    "import pandas as pd\n",
    "\n",
    "df_list=[]\n",
    "with open (\"tweet_json.txt\", 'r') as file:\n",
    "    for line in file:\n",
    "        tweet = json.loads(line)\n",
    "        df_list.append(tweet)\n",
    "    \n",
    "        \n",
    "api_df = pd.DataFrame(df_list)\n",
    "api_df = api_df[['id_str', 'retweet_count', 'favorite_count']]\n",
    "#api_df.info()"
   ]
  },
  {
   "cell_type": "code",
   "execution_count": 2,
   "metadata": {},
   "outputs": [],
   "source": [
    "#file was downloaded from the class resources as API keys not activated yet\n",
    "api_df = pd.read_json('tweet_json.txt', lines=True)\n",
    "api_df = api_df[['id_str', 'retweet_count', 'favorite_count']]"
   ]
  },
  {
   "cell_type": "markdown",
   "metadata": {},
   "source": [
    "#### 2.2 Gathering  twitter-archive-enhanced.csv data:"
   ]
  },
  {
   "cell_type": "code",
   "execution_count": 3,
   "metadata": {},
   "outputs": [],
   "source": [
    "#open WeRateDogs Twitter Archive\n",
    "import pandas as pd\n",
    "archive_df = pd.read_csv('twitter-archive-enhanced.csv')\n",
    "#archive_df.info()"
   ]
  },
  {
   "cell_type": "markdown",
   "metadata": {},
   "source": [
    "#### 2.3 Gathering image_predictions.tsv data:"
   ]
  },
  {
   "cell_type": "code",
   "execution_count": 4,
   "metadata": {},
   "outputs": [],
   "source": [
    "#download the neural network image rating using request\n",
    "import requests\n",
    "url = 'https://d17h27t6h515a5.cloudfront.net/topher/2017/August/599fd2ad_image-predictions/image-predictions.tsv'\n",
    "response = requests.get(url)\n",
    "with open('image_predictions.tsv', 'wb') as file:\n",
    "    file.write(response.content)\n",
    "    \n",
    "images_df = pd.read_csv('image_predictions.tsv', sep='\\t')\n",
    "\n",
    "#test\n",
    "#images_df.to_csv('images_df.csv', index=False)"
   ]
  },
  {
   "cell_type": "code",
   "execution_count": 5,
   "metadata": {},
   "outputs": [],
   "source": [
    "#downloading the url directly with pandas\n",
    "images_df = pd.read_csv(url, sep='\\t')"
   ]
  },
  {
   "cell_type": "code",
   "execution_count": 6,
   "metadata": {},
   "outputs": [],
   "source": [
    "#Save copy from main data frames\n",
    "archive_df_clean = archive_df.copy()\n",
    "images_df_clean = images_df.copy()\n",
    "api_df_clean = api_df.copy()"
   ]
  },
  {
   "cell_type": "markdown",
   "metadata": {},
   "source": [
    "### 3. Assessing data visuall and progromatically:"
   ]
  },
  {
   "cell_type": "markdown",
   "metadata": {},
   "source": [
    "Both visual and progromatic data assessing will be performed, data size is suitable to be checked with Excel or Google spreadsheets"
   ]
  },
  {
   "cell_type": "markdown",
   "metadata": {},
   "source": [
    "### 3.1 Assessing data visually"
   ]
  },
  {
   "cell_type": "code",
   "execution_count": 7,
   "metadata": {},
   "outputs": [
    {
     "data": {
      "text/html": [
       "<div>\n",
       "<style scoped>\n",
       "    .dataframe tbody tr th:only-of-type {\n",
       "        vertical-align: middle;\n",
       "    }\n",
       "\n",
       "    .dataframe tbody tr th {\n",
       "        vertical-align: top;\n",
       "    }\n",
       "\n",
       "    .dataframe thead th {\n",
       "        text-align: right;\n",
       "    }\n",
       "</style>\n",
       "<table border=\"1\" class=\"dataframe\">\n",
       "  <thead>\n",
       "    <tr style=\"text-align: right;\">\n",
       "      <th></th>\n",
       "      <th>tweet_id</th>\n",
       "      <th>in_reply_to_status_id</th>\n",
       "      <th>in_reply_to_user_id</th>\n",
       "      <th>timestamp</th>\n",
       "      <th>source</th>\n",
       "      <th>text</th>\n",
       "      <th>retweeted_status_id</th>\n",
       "      <th>retweeted_status_user_id</th>\n",
       "      <th>retweeted_status_timestamp</th>\n",
       "      <th>expanded_urls</th>\n",
       "      <th>rating_numerator</th>\n",
       "      <th>rating_denominator</th>\n",
       "      <th>name</th>\n",
       "      <th>doggo</th>\n",
       "      <th>floofer</th>\n",
       "      <th>pupper</th>\n",
       "      <th>puppo</th>\n",
       "    </tr>\n",
       "  </thead>\n",
       "  <tbody>\n",
       "    <tr>\n",
       "      <th>2351</th>\n",
       "      <td>666049248165822465</td>\n",
       "      <td>NaN</td>\n",
       "      <td>NaN</td>\n",
       "      <td>2015-11-16 00:24:50 +0000</td>\n",
       "      <td>&lt;a href=\"http://twitter.com/download/iphone\" r...</td>\n",
       "      <td>Here we have a 1949 1st generation vulpix. Enj...</td>\n",
       "      <td>NaN</td>\n",
       "      <td>NaN</td>\n",
       "      <td>NaN</td>\n",
       "      <td>https://twitter.com/dog_rates/status/666049248...</td>\n",
       "      <td>5</td>\n",
       "      <td>10</td>\n",
       "      <td>None</td>\n",
       "      <td>None</td>\n",
       "      <td>None</td>\n",
       "      <td>None</td>\n",
       "      <td>None</td>\n",
       "    </tr>\n",
       "    <tr>\n",
       "      <th>2352</th>\n",
       "      <td>666044226329800704</td>\n",
       "      <td>NaN</td>\n",
       "      <td>NaN</td>\n",
       "      <td>2015-11-16 00:04:52 +0000</td>\n",
       "      <td>&lt;a href=\"http://twitter.com/download/iphone\" r...</td>\n",
       "      <td>This is a purebred Piers Morgan. Loves to Netf...</td>\n",
       "      <td>NaN</td>\n",
       "      <td>NaN</td>\n",
       "      <td>NaN</td>\n",
       "      <td>https://twitter.com/dog_rates/status/666044226...</td>\n",
       "      <td>6</td>\n",
       "      <td>10</td>\n",
       "      <td>a</td>\n",
       "      <td>None</td>\n",
       "      <td>None</td>\n",
       "      <td>None</td>\n",
       "      <td>None</td>\n",
       "    </tr>\n",
       "    <tr>\n",
       "      <th>2353</th>\n",
       "      <td>666033412701032449</td>\n",
       "      <td>NaN</td>\n",
       "      <td>NaN</td>\n",
       "      <td>2015-11-15 23:21:54 +0000</td>\n",
       "      <td>&lt;a href=\"http://twitter.com/download/iphone\" r...</td>\n",
       "      <td>Here is a very happy pup. Big fan of well-main...</td>\n",
       "      <td>NaN</td>\n",
       "      <td>NaN</td>\n",
       "      <td>NaN</td>\n",
       "      <td>https://twitter.com/dog_rates/status/666033412...</td>\n",
       "      <td>9</td>\n",
       "      <td>10</td>\n",
       "      <td>a</td>\n",
       "      <td>None</td>\n",
       "      <td>None</td>\n",
       "      <td>None</td>\n",
       "      <td>None</td>\n",
       "    </tr>\n",
       "    <tr>\n",
       "      <th>2354</th>\n",
       "      <td>666029285002620928</td>\n",
       "      <td>NaN</td>\n",
       "      <td>NaN</td>\n",
       "      <td>2015-11-15 23:05:30 +0000</td>\n",
       "      <td>&lt;a href=\"http://twitter.com/download/iphone\" r...</td>\n",
       "      <td>This is a western brown Mitsubishi terrier. Up...</td>\n",
       "      <td>NaN</td>\n",
       "      <td>NaN</td>\n",
       "      <td>NaN</td>\n",
       "      <td>https://twitter.com/dog_rates/status/666029285...</td>\n",
       "      <td>7</td>\n",
       "      <td>10</td>\n",
       "      <td>a</td>\n",
       "      <td>None</td>\n",
       "      <td>None</td>\n",
       "      <td>None</td>\n",
       "      <td>None</td>\n",
       "    </tr>\n",
       "    <tr>\n",
       "      <th>2355</th>\n",
       "      <td>666020888022790149</td>\n",
       "      <td>NaN</td>\n",
       "      <td>NaN</td>\n",
       "      <td>2015-11-15 22:32:08 +0000</td>\n",
       "      <td>&lt;a href=\"http://twitter.com/download/iphone\" r...</td>\n",
       "      <td>Here we have a Japanese Irish Setter. Lost eye...</td>\n",
       "      <td>NaN</td>\n",
       "      <td>NaN</td>\n",
       "      <td>NaN</td>\n",
       "      <td>https://twitter.com/dog_rates/status/666020888...</td>\n",
       "      <td>8</td>\n",
       "      <td>10</td>\n",
       "      <td>None</td>\n",
       "      <td>None</td>\n",
       "      <td>None</td>\n",
       "      <td>None</td>\n",
       "      <td>None</td>\n",
       "    </tr>\n",
       "  </tbody>\n",
       "</table>\n",
       "</div>"
      ],
      "text/plain": [
       "                tweet_id  in_reply_to_status_id  in_reply_to_user_id  \\\n",
       "2351  666049248165822465                    NaN                  NaN   \n",
       "2352  666044226329800704                    NaN                  NaN   \n",
       "2353  666033412701032449                    NaN                  NaN   \n",
       "2354  666029285002620928                    NaN                  NaN   \n",
       "2355  666020888022790149                    NaN                  NaN   \n",
       "\n",
       "                      timestamp  \\\n",
       "2351  2015-11-16 00:24:50 +0000   \n",
       "2352  2015-11-16 00:04:52 +0000   \n",
       "2353  2015-11-15 23:21:54 +0000   \n",
       "2354  2015-11-15 23:05:30 +0000   \n",
       "2355  2015-11-15 22:32:08 +0000   \n",
       "\n",
       "                                                 source  \\\n",
       "2351  <a href=\"http://twitter.com/download/iphone\" r...   \n",
       "2352  <a href=\"http://twitter.com/download/iphone\" r...   \n",
       "2353  <a href=\"http://twitter.com/download/iphone\" r...   \n",
       "2354  <a href=\"http://twitter.com/download/iphone\" r...   \n",
       "2355  <a href=\"http://twitter.com/download/iphone\" r...   \n",
       "\n",
       "                                                   text  retweeted_status_id  \\\n",
       "2351  Here we have a 1949 1st generation vulpix. Enj...                  NaN   \n",
       "2352  This is a purebred Piers Morgan. Loves to Netf...                  NaN   \n",
       "2353  Here is a very happy pup. Big fan of well-main...                  NaN   \n",
       "2354  This is a western brown Mitsubishi terrier. Up...                  NaN   \n",
       "2355  Here we have a Japanese Irish Setter. Lost eye...                  NaN   \n",
       "\n",
       "      retweeted_status_user_id retweeted_status_timestamp  \\\n",
       "2351                       NaN                        NaN   \n",
       "2352                       NaN                        NaN   \n",
       "2353                       NaN                        NaN   \n",
       "2354                       NaN                        NaN   \n",
       "2355                       NaN                        NaN   \n",
       "\n",
       "                                          expanded_urls  rating_numerator  \\\n",
       "2351  https://twitter.com/dog_rates/status/666049248...                 5   \n",
       "2352  https://twitter.com/dog_rates/status/666044226...                 6   \n",
       "2353  https://twitter.com/dog_rates/status/666033412...                 9   \n",
       "2354  https://twitter.com/dog_rates/status/666029285...                 7   \n",
       "2355  https://twitter.com/dog_rates/status/666020888...                 8   \n",
       "\n",
       "      rating_denominator  name doggo floofer pupper puppo  \n",
       "2351                  10  None  None    None   None  None  \n",
       "2352                  10     a  None    None   None  None  \n",
       "2353                  10     a  None    None   None  None  \n",
       "2354                  10     a  None    None   None  None  \n",
       "2355                  10  None  None    None   None  None  "
      ]
     },
     "execution_count": 7,
     "metadata": {},
     "output_type": "execute_result"
    }
   ],
   "source": [
    "#assessing archive_df_clean data visually.\n",
    "#check data on spread sheet visually is much better than jupyter notebook\n",
    "#Please download and open the the file archive_df_clean.csv with Excel.\n",
    "#data size is suitable for checking with Excel.\n",
    "archive_df_clean.head()\n",
    "archive_df_clean.tail()\n",
    "#archive_df_clean.to_csv('archive_df_clean.csv')"
   ]
  },
  {
   "cell_type": "code",
   "execution_count": 8,
   "metadata": {},
   "outputs": [
    {
     "data": {
      "text/html": [
       "<div>\n",
       "<style scoped>\n",
       "    .dataframe tbody tr th:only-of-type {\n",
       "        vertical-align: middle;\n",
       "    }\n",
       "\n",
       "    .dataframe tbody tr th {\n",
       "        vertical-align: top;\n",
       "    }\n",
       "\n",
       "    .dataframe thead th {\n",
       "        text-align: right;\n",
       "    }\n",
       "</style>\n",
       "<table border=\"1\" class=\"dataframe\">\n",
       "  <thead>\n",
       "    <tr style=\"text-align: right;\">\n",
       "      <th></th>\n",
       "      <th>tweet_id</th>\n",
       "      <th>jpg_url</th>\n",
       "      <th>img_num</th>\n",
       "      <th>p1</th>\n",
       "      <th>p1_conf</th>\n",
       "      <th>p1_dog</th>\n",
       "      <th>p2</th>\n",
       "      <th>p2_conf</th>\n",
       "      <th>p2_dog</th>\n",
       "      <th>p3</th>\n",
       "      <th>p3_conf</th>\n",
       "      <th>p3_dog</th>\n",
       "    </tr>\n",
       "  </thead>\n",
       "  <tbody>\n",
       "    <tr>\n",
       "      <th>2070</th>\n",
       "      <td>891327558926688256</td>\n",
       "      <td>https://pbs.twimg.com/media/DF6hr6BUMAAzZgT.jpg</td>\n",
       "      <td>2</td>\n",
       "      <td>basset</td>\n",
       "      <td>0.555712</td>\n",
       "      <td>True</td>\n",
       "      <td>English_springer</td>\n",
       "      <td>0.225770</td>\n",
       "      <td>True</td>\n",
       "      <td>German_short-haired_pointer</td>\n",
       "      <td>0.175219</td>\n",
       "      <td>True</td>\n",
       "    </tr>\n",
       "    <tr>\n",
       "      <th>2071</th>\n",
       "      <td>891689557279858688</td>\n",
       "      <td>https://pbs.twimg.com/media/DF_q7IAWsAEuuN8.jpg</td>\n",
       "      <td>1</td>\n",
       "      <td>paper_towel</td>\n",
       "      <td>0.170278</td>\n",
       "      <td>False</td>\n",
       "      <td>Labrador_retriever</td>\n",
       "      <td>0.168086</td>\n",
       "      <td>True</td>\n",
       "      <td>spatula</td>\n",
       "      <td>0.040836</td>\n",
       "      <td>False</td>\n",
       "    </tr>\n",
       "    <tr>\n",
       "      <th>2072</th>\n",
       "      <td>891815181378084864</td>\n",
       "      <td>https://pbs.twimg.com/media/DGBdLU1WsAANxJ9.jpg</td>\n",
       "      <td>1</td>\n",
       "      <td>Chihuahua</td>\n",
       "      <td>0.716012</td>\n",
       "      <td>True</td>\n",
       "      <td>malamute</td>\n",
       "      <td>0.078253</td>\n",
       "      <td>True</td>\n",
       "      <td>kelpie</td>\n",
       "      <td>0.031379</td>\n",
       "      <td>True</td>\n",
       "    </tr>\n",
       "    <tr>\n",
       "      <th>2073</th>\n",
       "      <td>892177421306343426</td>\n",
       "      <td>https://pbs.twimg.com/media/DGGmoV4XsAAUL6n.jpg</td>\n",
       "      <td>1</td>\n",
       "      <td>Chihuahua</td>\n",
       "      <td>0.323581</td>\n",
       "      <td>True</td>\n",
       "      <td>Pekinese</td>\n",
       "      <td>0.090647</td>\n",
       "      <td>True</td>\n",
       "      <td>papillon</td>\n",
       "      <td>0.068957</td>\n",
       "      <td>True</td>\n",
       "    </tr>\n",
       "    <tr>\n",
       "      <th>2074</th>\n",
       "      <td>892420643555336193</td>\n",
       "      <td>https://pbs.twimg.com/media/DGKD1-bXoAAIAUK.jpg</td>\n",
       "      <td>1</td>\n",
       "      <td>orange</td>\n",
       "      <td>0.097049</td>\n",
       "      <td>False</td>\n",
       "      <td>bagel</td>\n",
       "      <td>0.085851</td>\n",
       "      <td>False</td>\n",
       "      <td>banana</td>\n",
       "      <td>0.076110</td>\n",
       "      <td>False</td>\n",
       "    </tr>\n",
       "  </tbody>\n",
       "</table>\n",
       "</div>"
      ],
      "text/plain": [
       "                tweet_id                                          jpg_url  \\\n",
       "2070  891327558926688256  https://pbs.twimg.com/media/DF6hr6BUMAAzZgT.jpg   \n",
       "2071  891689557279858688  https://pbs.twimg.com/media/DF_q7IAWsAEuuN8.jpg   \n",
       "2072  891815181378084864  https://pbs.twimg.com/media/DGBdLU1WsAANxJ9.jpg   \n",
       "2073  892177421306343426  https://pbs.twimg.com/media/DGGmoV4XsAAUL6n.jpg   \n",
       "2074  892420643555336193  https://pbs.twimg.com/media/DGKD1-bXoAAIAUK.jpg   \n",
       "\n",
       "      img_num           p1   p1_conf  p1_dog                  p2   p2_conf  \\\n",
       "2070        2       basset  0.555712    True    English_springer  0.225770   \n",
       "2071        1  paper_towel  0.170278   False  Labrador_retriever  0.168086   \n",
       "2072        1    Chihuahua  0.716012    True            malamute  0.078253   \n",
       "2073        1    Chihuahua  0.323581    True            Pekinese  0.090647   \n",
       "2074        1       orange  0.097049   False               bagel  0.085851   \n",
       "\n",
       "      p2_dog                           p3   p3_conf  p3_dog  \n",
       "2070    True  German_short-haired_pointer  0.175219    True  \n",
       "2071    True                      spatula  0.040836   False  \n",
       "2072    True                       kelpie  0.031379    True  \n",
       "2073    True                     papillon  0.068957    True  \n",
       "2074   False                       banana  0.076110   False  "
      ]
     },
     "execution_count": 8,
     "metadata": {},
     "output_type": "execute_result"
    }
   ],
   "source": [
    "#assessing archive_df_clean data visually.\n",
    "images_df_clean.head()\n",
    "images_df_clean.tail()\n",
    "#images_df_clean.to_csv('images_df_clean.csv')"
   ]
  },
  {
   "cell_type": "code",
   "execution_count": 9,
   "metadata": {},
   "outputs": [
    {
     "data": {
      "text/html": [
       "<div>\n",
       "<style scoped>\n",
       "    .dataframe tbody tr th:only-of-type {\n",
       "        vertical-align: middle;\n",
       "    }\n",
       "\n",
       "    .dataframe tbody tr th {\n",
       "        vertical-align: top;\n",
       "    }\n",
       "\n",
       "    .dataframe thead th {\n",
       "        text-align: right;\n",
       "    }\n",
       "</style>\n",
       "<table border=\"1\" class=\"dataframe\">\n",
       "  <thead>\n",
       "    <tr style=\"text-align: right;\">\n",
       "      <th></th>\n",
       "      <th>id_str</th>\n",
       "      <th>retweet_count</th>\n",
       "      <th>favorite_count</th>\n",
       "    </tr>\n",
       "  </thead>\n",
       "  <tbody>\n",
       "    <tr>\n",
       "      <th>2349</th>\n",
       "      <td>666049248165822464</td>\n",
       "      <td>41</td>\n",
       "      <td>111</td>\n",
       "    </tr>\n",
       "    <tr>\n",
       "      <th>2350</th>\n",
       "      <td>666044226329800704</td>\n",
       "      <td>147</td>\n",
       "      <td>311</td>\n",
       "    </tr>\n",
       "    <tr>\n",
       "      <th>2351</th>\n",
       "      <td>666033412701032448</td>\n",
       "      <td>47</td>\n",
       "      <td>128</td>\n",
       "    </tr>\n",
       "    <tr>\n",
       "      <th>2352</th>\n",
       "      <td>666029285002620928</td>\n",
       "      <td>48</td>\n",
       "      <td>132</td>\n",
       "    </tr>\n",
       "    <tr>\n",
       "      <th>2353</th>\n",
       "      <td>666020888022790144</td>\n",
       "      <td>532</td>\n",
       "      <td>2535</td>\n",
       "    </tr>\n",
       "  </tbody>\n",
       "</table>\n",
       "</div>"
      ],
      "text/plain": [
       "                  id_str  retweet_count  favorite_count\n",
       "2349  666049248165822464             41             111\n",
       "2350  666044226329800704            147             311\n",
       "2351  666033412701032448             47             128\n",
       "2352  666029285002620928             48             132\n",
       "2353  666020888022790144            532            2535"
      ]
     },
     "execution_count": 9,
     "metadata": {},
     "output_type": "execute_result"
    }
   ],
   "source": [
    "#assessing archive_df_clean data visually.\n",
    "api_df_clean.head()\n",
    "api_df_clean.tail()\n",
    "#api_df_clean.to_csv('api_df_clean.csv')"
   ]
  },
  {
   "cell_type": "markdown",
   "metadata": {},
   "source": [
    "### 3.2 Assessing data progromatically"
   ]
  },
  {
   "cell_type": "code",
   "execution_count": 10,
   "metadata": {},
   "outputs": [
    {
     "name": "stdout",
     "output_type": "stream",
     "text": [
      "<class 'pandas.core.frame.DataFrame'>\n",
      "RangeIndex: 2356 entries, 0 to 2355\n",
      "Data columns (total 17 columns):\n",
      "tweet_id                      2356 non-null int64\n",
      "in_reply_to_status_id         78 non-null float64\n",
      "in_reply_to_user_id           78 non-null float64\n",
      "timestamp                     2356 non-null object\n",
      "source                        2356 non-null object\n",
      "text                          2356 non-null object\n",
      "retweeted_status_id           181 non-null float64\n",
      "retweeted_status_user_id      181 non-null float64\n",
      "retweeted_status_timestamp    181 non-null object\n",
      "expanded_urls                 2297 non-null object\n",
      "rating_numerator              2356 non-null int64\n",
      "rating_denominator            2356 non-null int64\n",
      "name                          2356 non-null object\n",
      "doggo                         2356 non-null object\n",
      "floofer                       2356 non-null object\n",
      "pupper                        2356 non-null object\n",
      "puppo                         2356 non-null object\n",
      "dtypes: float64(4), int64(3), object(10)\n",
      "memory usage: 313.0+ KB\n",
      "----------------------------------------------------------------------------------------------------\n",
      "<class 'pandas.core.frame.DataFrame'>\n",
      "RangeIndex: 2075 entries, 0 to 2074\n",
      "Data columns (total 12 columns):\n",
      "tweet_id    2075 non-null int64\n",
      "jpg_url     2075 non-null object\n",
      "img_num     2075 non-null int64\n",
      "p1          2075 non-null object\n",
      "p1_conf     2075 non-null float64\n",
      "p1_dog      2075 non-null bool\n",
      "p2          2075 non-null object\n",
      "p2_conf     2075 non-null float64\n",
      "p2_dog      2075 non-null bool\n",
      "p3          2075 non-null object\n",
      "p3_conf     2075 non-null float64\n",
      "p3_dog      2075 non-null bool\n",
      "dtypes: bool(3), float64(3), int64(2), object(4)\n",
      "memory usage: 152.1+ KB\n",
      "----------------------------------------------------------------------------------------------------\n",
      "<class 'pandas.core.frame.DataFrame'>\n",
      "RangeIndex: 2354 entries, 0 to 2353\n",
      "Data columns (total 3 columns):\n",
      "id_str            2354 non-null int64\n",
      "retweet_count     2354 non-null int64\n",
      "favorite_count    2354 non-null int64\n",
      "dtypes: int64(3)\n",
      "memory usage: 55.2 KB\n"
     ]
    },
    {
     "data": {
      "text/html": [
       "<div>\n",
       "<style scoped>\n",
       "    .dataframe tbody tr th:only-of-type {\n",
       "        vertical-align: middle;\n",
       "    }\n",
       "\n",
       "    .dataframe tbody tr th {\n",
       "        vertical-align: top;\n",
       "    }\n",
       "\n",
       "    .dataframe thead th {\n",
       "        text-align: right;\n",
       "    }\n",
       "</style>\n",
       "<table border=\"1\" class=\"dataframe\">\n",
       "  <thead>\n",
       "    <tr style=\"text-align: right;\">\n",
       "      <th></th>\n",
       "      <th>id_str</th>\n",
       "      <th>retweet_count</th>\n",
       "      <th>favorite_count</th>\n",
       "    </tr>\n",
       "  </thead>\n",
       "  <tbody>\n",
       "  </tbody>\n",
       "</table>\n",
       "</div>"
      ],
      "text/plain": [
       "Empty DataFrame\n",
       "Columns: [id_str, retweet_count, favorite_count]\n",
       "Index: []"
      ]
     },
     "execution_count": 10,
     "metadata": {},
     "output_type": "execute_result"
    }
   ],
   "source": [
    "archive_df_clean.info()\n",
    "archive_df_clean.describe()\n",
    "archive_df_clean[archive_df_clean.duplicated()]\n",
    "\n",
    "\n",
    "print(100*'-')\n",
    "images_df_clean.info()\n",
    "images_df_clean.describe()\n",
    "images_df_clean[images_df_clean.duplicated()]\n",
    "\n",
    "print(100*'-')\n",
    "api_df_clean.info()\n",
    "api_df_clean.describe()\n",
    "api_df_clean[api_df_clean.duplicated()]"
   ]
  },
  {
   "cell_type": "markdown",
   "metadata": {},
   "source": [
    "### 3.4   Quality Issues file \"twitter-archive-enhanced\":\n",
    "<br>1- Column: **rating_numerator** should be float type to extract ratings with floats correctly. \n",
    "<br>2- Column: **tweet_id**data type is float, ID should be string for ID.\n",
    "<br>3- Column **name** missing data for 745 cell with non value.\n",
    "<br>4- Column **\"expanded_urls\"** missing data 60 cell.\n",
    "delete rows without images\n",
    "<br>5- Remove any retweets **retweeted_status_id** or  or tweets without images in them.\n",
    "<br>6- Remove any retweets with values on **replies in_reply_to_status_id** column.\n",
    "<br>7- Column **timestamp**, datatype is sting it should be converted for timedate format.\n",
    "<br>8- Column **\"rating_nominator\"** inconsisten data, 22 values are greater than 24 which are far from the average ratings.\n",
    "<br>9- Column **\"rating_denominator\"** inconsisten data, vaulues are not exactly 10, some values above some below. Which is not valid for our scale.\n",
    "<br>10- Columns **\"doggo, floofer, pupper, puppo\"** should be only one value selected, some row have multiple selection of these."
   ]
  },
  {
   "cell_type": "markdown",
   "metadata": {},
   "source": [
    "### 3.5 Tidness Issues:\n",
    "\n",
    "<br>1- Tweets data from API should be all merged into one table, I have extracted important data from **api_df** and merged two columns **'retweet_count'**, **'favorite_count'** using **'id_str column** as the key.\n",
    "<br>2- In file twitter-archive-enchanced four cloumns \"doggo, floofer, pupper, puppo\" should be melterd on one column.\n",
    "\n",
    "\n"
   ]
  },
  {
   "cell_type": "markdown",
   "metadata": {},
   "source": [
    "### 4. Cleaning:"
   ]
  },
  {
   "cell_type": "markdown",
   "metadata": {},
   "source": [
    "#### 4.1 Converting datatype rating_numerator to float :\n",
    "##### 4.1.1 Define:\n",
    "rating_numerator should be float type to extract ratings with floats correctly\n",
    "##### 4.1.2 Code:"
   ]
  },
  {
   "cell_type": "code",
   "execution_count": 11,
   "metadata": {},
   "outputs": [
    {
     "name": "stderr",
     "output_type": "stream",
     "text": [
      "/opt/conda/lib/python3.6/site-packages/ipykernel_launcher.py:2: UserWarning: This pattern has match groups. To actually get the groups, use str.extract.\n",
      "  \n"
     ]
    }
   ],
   "source": [
    "#Column: rating_numerator should be float type to extract ratings with floats correctly.\n",
    "archive_df_clean[archive_df_clean.text.str.contains(r\"(\\d+\\.\\d*\\/\\d+)\")][['text', 'rating_numerator']]\n",
    "archive_df_clean['rating_numerator'] = archive_df_clean['rating_numerator'].apply(float)"
   ]
  },
  {
   "cell_type": "markdown",
   "metadata": {},
   "source": [
    "##### 4.1.3 Test:"
   ]
  },
  {
   "cell_type": "code",
   "execution_count": 12,
   "metadata": {},
   "outputs": [
    {
     "data": {
      "text/plain": [
       "dtype('float64')"
      ]
     },
     "execution_count": 12,
     "metadata": {},
     "output_type": "execute_result"
    }
   ],
   "source": [
    "archive_df_clean.rating_numerator.dtypes "
   ]
  },
  {
   "cell_type": "markdown",
   "metadata": {},
   "source": [
    "#### 4.2 Tweet_id datatype to str:\n",
    "##### 4.2.1 Define:\n",
    "For merging between API_df and Archive_df, Tweet_ID is float in Archive_df, While it is sting on the API file. So we have converted both to string for easier merging.\n",
    "##### 4.2.2 Code"
   ]
  },
  {
   "cell_type": "code",
   "execution_count": 13,
   "metadata": {},
   "outputs": [],
   "source": [
    "archive_df_clean['tweet_id'] = archive_df_clean['tweet_id'].apply(str)\n",
    "api_df_clean['id_str'] = api_df_clean['id_str'].apply(str)"
   ]
  },
  {
   "cell_type": "markdown",
   "metadata": {},
   "source": [
    "#### 4.2.3Test"
   ]
  },
  {
   "cell_type": "code",
   "execution_count": 14,
   "metadata": {},
   "outputs": [
    {
     "data": {
      "text/plain": [
       "dtype('O')"
      ]
     },
     "execution_count": 14,
     "metadata": {},
     "output_type": "execute_result"
    }
   ],
   "source": [
    "api_df_clean['id_str'].dtypes"
   ]
  },
  {
   "cell_type": "markdown",
   "metadata": {},
   "source": [
    "#### 4.3 Merging data from api_df_clean and archive_df_clean into  one data frame df_merged:\n",
    "##### 4.3.1 Define:\n",
    "Merge data from api_df and twitter_archive into one data frame to avoid repeating cleaning steps.\n",
    "##### 4.3.2 Code:"
   ]
  },
  {
   "cell_type": "code",
   "execution_count": 15,
   "metadata": {},
   "outputs": [],
   "source": [
    "df_merged = archive_df_clean.merge(api_df_clean, how='inner', left_on='tweet_id', right_on='id_str')"
   ]
  },
  {
   "cell_type": "markdown",
   "metadata": {},
   "source": [
    "##### 4.3.3 Test"
   ]
  },
  {
   "cell_type": "code",
   "execution_count": 16,
   "metadata": {},
   "outputs": [],
   "source": [
    "list(df_merged['id_str']) == list(df_merged['tweet_id'])\n",
    "#we dropped the extra ID columns after completing testing with it\n",
    "df_merged = df_merged.drop('id_str', 1)"
   ]
  },
  {
   "cell_type": "markdown",
   "metadata": {},
   "source": [
    "#### 4.4 Fixing missing and incorrect names of dogs:\n",
    "##### 4.4.1 Define:\n",
    "dog names are missing data for 745 cell with none value. We have used regular expression to repeat the extraction process for any additional names found in text column. Rows without name extracted have been converted to Nan using np.nan for easy operation on the data.\n",
    "##### 4.4.2 Code:"
   ]
  },
  {
   "cell_type": "code",
   "execution_count": 17,
   "metadata": {},
   "outputs": [],
   "source": [
    "import re\n",
    "import numpy as np\n",
    "\n",
    "#try to Extract additional dogs name from text column for names that contains 'a' or 'an'\n",
    "pattern_2 = re.compile(r'(?:name(?:d)?)\\s{1}(?:is\\s)?([A-Za-z]+)')\n",
    "for index, row in df_merged.iterrows():  \n",
    "    try:\n",
    "        if row['name'] == \"a\":\n",
    "            c_name = re.findall(pattern_2, row['text'])[0]\n",
    "            df_merged.loc[index,'name'] = df_merged.loc[index,'name'].replace('a', c_name)\n",
    "            \n",
    "        elif row['name'] == 'an':\n",
    "            c_name = re.findall(pattern_2, row['text'])[0]\n",
    "            df_merged.loc[index,'name'] = df_merged.loc[index,'name'].replace('an', c_name)\n",
    "            \n",
    "        #replace the dog name 'a' or 'an' values with np.nan    \n",
    "        elif row['name'] == 'None':\n",
    "            df_merged.loc[index,'name'] = np.nan    \n",
    "        \n",
    "    except IndexError:\n",
    "        df_merged.loc[index,'name'] = np.nan\n",
    "\n",
    "#df_merged.name.value_counts(dropna = False)"
   ]
  },
  {
   "cell_type": "markdown",
   "metadata": {},
   "source": [
    "##### 4.4.3Testing"
   ]
  },
  {
   "cell_type": "code",
   "execution_count": 18,
   "metadata": {},
   "outputs": [
    {
     "data": {
      "text/html": [
       "<div>\n",
       "<style scoped>\n",
       "    .dataframe tbody tr th:only-of-type {\n",
       "        vertical-align: middle;\n",
       "    }\n",
       "\n",
       "    .dataframe tbody tr th {\n",
       "        vertical-align: top;\n",
       "    }\n",
       "\n",
       "    .dataframe thead th {\n",
       "        text-align: right;\n",
       "    }\n",
       "</style>\n",
       "<table border=\"1\" class=\"dataframe\">\n",
       "  <thead>\n",
       "    <tr style=\"text-align: right;\">\n",
       "      <th></th>\n",
       "      <th>tweet_id</th>\n",
       "      <th>in_reply_to_status_id</th>\n",
       "      <th>in_reply_to_user_id</th>\n",
       "      <th>timestamp</th>\n",
       "      <th>source</th>\n",
       "      <th>text</th>\n",
       "      <th>retweeted_status_id</th>\n",
       "      <th>retweeted_status_user_id</th>\n",
       "      <th>retweeted_status_timestamp</th>\n",
       "      <th>expanded_urls</th>\n",
       "      <th>rating_numerator</th>\n",
       "      <th>rating_denominator</th>\n",
       "      <th>name</th>\n",
       "      <th>doggo</th>\n",
       "      <th>floofer</th>\n",
       "      <th>pupper</th>\n",
       "      <th>puppo</th>\n",
       "      <th>retweet_count</th>\n",
       "      <th>favorite_count</th>\n",
       "    </tr>\n",
       "  </thead>\n",
       "  <tbody>\n",
       "  </tbody>\n",
       "</table>\n",
       "</div>"
      ],
      "text/plain": [
       "Empty DataFrame\n",
       "Columns: [tweet_id, in_reply_to_status_id, in_reply_to_user_id, timestamp, source, text, retweeted_status_id, retweeted_status_user_id, retweeted_status_timestamp, expanded_urls, rating_numerator, rating_denominator, name, doggo, floofer, pupper, puppo, retweet_count, favorite_count]\n",
       "Index: []"
      ]
     },
     "execution_count": 18,
     "metadata": {},
     "output_type": "execute_result"
    }
   ],
   "source": [
    "df_merged[(df_merged.name == 'a') | (df_merged.name == 'an')| (df_merged.name == 'None') ]"
   ]
  },
  {
   "cell_type": "code",
   "execution_count": 19,
   "metadata": {},
   "outputs": [
    {
     "data": {
      "text/html": [
       "<div>\n",
       "<style scoped>\n",
       "    .dataframe tbody tr th:only-of-type {\n",
       "        vertical-align: middle;\n",
       "    }\n",
       "\n",
       "    .dataframe tbody tr th {\n",
       "        vertical-align: top;\n",
       "    }\n",
       "\n",
       "    .dataframe thead th {\n",
       "        text-align: right;\n",
       "    }\n",
       "</style>\n",
       "<table border=\"1\" class=\"dataframe\">\n",
       "  <thead>\n",
       "    <tr style=\"text-align: right;\">\n",
       "      <th></th>\n",
       "      <th>tweet_id</th>\n",
       "      <th>in_reply_to_status_id</th>\n",
       "      <th>in_reply_to_user_id</th>\n",
       "      <th>timestamp</th>\n",
       "      <th>source</th>\n",
       "      <th>text</th>\n",
       "      <th>retweeted_status_id</th>\n",
       "      <th>retweeted_status_user_id</th>\n",
       "      <th>retweeted_status_timestamp</th>\n",
       "      <th>expanded_urls</th>\n",
       "      <th>rating_numerator</th>\n",
       "      <th>rating_denominator</th>\n",
       "      <th>name</th>\n",
       "      <th>doggo</th>\n",
       "      <th>floofer</th>\n",
       "      <th>pupper</th>\n",
       "      <th>puppo</th>\n",
       "      <th>retweet_count</th>\n",
       "      <th>favorite_count</th>\n",
       "    </tr>\n",
       "  </thead>\n",
       "  <tbody>\n",
       "    <tr>\n",
       "      <th>116</th>\n",
       "      <td>855851453814013952</td>\n",
       "      <td>NaN</td>\n",
       "      <td>NaN</td>\n",
       "      <td>2017-04-22 18:31:02 +0000</td>\n",
       "      <td>&lt;a href=\"http://twitter.com/download/iphone\" r...</td>\n",
       "      <td>Here's a puppo participating in the #ScienceMa...</td>\n",
       "      <td>NaN</td>\n",
       "      <td>NaN</td>\n",
       "      <td>NaN</td>\n",
       "      <td>https://twitter.com/dog_rates/status/855851453...</td>\n",
       "      <td>13.0</td>\n",
       "      <td>10</td>\n",
       "      <td>NaN</td>\n",
       "      <td>doggo</td>\n",
       "      <td>None</td>\n",
       "      <td>None</td>\n",
       "      <td>puppo</td>\n",
       "      <td>19196</td>\n",
       "      <td>47844</td>\n",
       "    </tr>\n",
       "    <tr>\n",
       "      <th>123</th>\n",
       "      <td>854010172552949760</td>\n",
       "      <td>NaN</td>\n",
       "      <td>NaN</td>\n",
       "      <td>2017-04-17 16:34:26 +0000</td>\n",
       "      <td>&lt;a href=\"http://twitter.com/download/iphone\" r...</td>\n",
       "      <td>At first I thought this was a shy doggo, but i...</td>\n",
       "      <td>NaN</td>\n",
       "      <td>NaN</td>\n",
       "      <td>NaN</td>\n",
       "      <td>https://twitter.com/dog_rates/status/854010172...</td>\n",
       "      <td>11.0</td>\n",
       "      <td>10</td>\n",
       "      <td>NaN</td>\n",
       "      <td>doggo</td>\n",
       "      <td>floofer</td>\n",
       "      <td>None</td>\n",
       "      <td>None</td>\n",
       "      <td>3433</td>\n",
       "      <td>17169</td>\n",
       "    </tr>\n",
       "    <tr>\n",
       "      <th>327</th>\n",
       "      <td>801115127852503040</td>\n",
       "      <td>NaN</td>\n",
       "      <td>NaN</td>\n",
       "      <td>2016-11-22 17:28:25 +0000</td>\n",
       "      <td>&lt;a href=\"http://twitter.com/download/iphone\" r...</td>\n",
       "      <td>This is Bones. He's being haunted by another d...</td>\n",
       "      <td>NaN</td>\n",
       "      <td>NaN</td>\n",
       "      <td>NaN</td>\n",
       "      <td>https://twitter.com/dog_rates/status/801115127...</td>\n",
       "      <td>12.0</td>\n",
       "      <td>10</td>\n",
       "      <td>Bones</td>\n",
       "      <td>doggo</td>\n",
       "      <td>None</td>\n",
       "      <td>pupper</td>\n",
       "      <td>None</td>\n",
       "      <td>2429</td>\n",
       "      <td>8992</td>\n",
       "    </tr>\n",
       "    <tr>\n",
       "      <th>406</th>\n",
       "      <td>785639753186217984</td>\n",
       "      <td>NaN</td>\n",
       "      <td>NaN</td>\n",
       "      <td>2016-10-11 00:34:48 +0000</td>\n",
       "      <td>&lt;a href=\"http://twitter.com/download/iphone\" r...</td>\n",
       "      <td>This is Pinot. He's a sophisticated doggo. You...</td>\n",
       "      <td>NaN</td>\n",
       "      <td>NaN</td>\n",
       "      <td>NaN</td>\n",
       "      <td>https://twitter.com/dog_rates/status/785639753...</td>\n",
       "      <td>10.0</td>\n",
       "      <td>10</td>\n",
       "      <td>Pinot</td>\n",
       "      <td>doggo</td>\n",
       "      <td>None</td>\n",
       "      <td>pupper</td>\n",
       "      <td>None</td>\n",
       "      <td>2561</td>\n",
       "      <td>8735</td>\n",
       "    </tr>\n",
       "    <tr>\n",
       "      <th>528</th>\n",
       "      <td>759793422261743616</td>\n",
       "      <td>NaN</td>\n",
       "      <td>NaN</td>\n",
       "      <td>2016-07-31 16:50:42 +0000</td>\n",
       "      <td>&lt;a href=\"http://twitter.com/download/iphone\" r...</td>\n",
       "      <td>Meet Maggie &amp;amp; Lila. Maggie is the doggo, L...</td>\n",
       "      <td>NaN</td>\n",
       "      <td>NaN</td>\n",
       "      <td>NaN</td>\n",
       "      <td>https://twitter.com/dog_rates/status/759793422...</td>\n",
       "      <td>12.0</td>\n",
       "      <td>10</td>\n",
       "      <td>Maggie</td>\n",
       "      <td>doggo</td>\n",
       "      <td>None</td>\n",
       "      <td>pupper</td>\n",
       "      <td>None</td>\n",
       "      <td>2173</td>\n",
       "      <td>6620</td>\n",
       "    </tr>\n",
       "    <tr>\n",
       "      <th>580</th>\n",
       "      <td>751583847268179968</td>\n",
       "      <td>NaN</td>\n",
       "      <td>NaN</td>\n",
       "      <td>2016-07-09 01:08:47 +0000</td>\n",
       "      <td>&lt;a href=\"http://twitter.com/download/iphone\" r...</td>\n",
       "      <td>Please stop sending it pictures that don't eve...</td>\n",
       "      <td>NaN</td>\n",
       "      <td>NaN</td>\n",
       "      <td>NaN</td>\n",
       "      <td>https://twitter.com/dog_rates/status/751583847...</td>\n",
       "      <td>5.0</td>\n",
       "      <td>10</td>\n",
       "      <td>NaN</td>\n",
       "      <td>doggo</td>\n",
       "      <td>None</td>\n",
       "      <td>pupper</td>\n",
       "      <td>None</td>\n",
       "      <td>1265</td>\n",
       "      <td>4849</td>\n",
       "    </tr>\n",
       "    <tr>\n",
       "      <th>654</th>\n",
       "      <td>741067306818797568</td>\n",
       "      <td>NaN</td>\n",
       "      <td>NaN</td>\n",
       "      <td>2016-06-10 00:39:48 +0000</td>\n",
       "      <td>&lt;a href=\"http://twitter.com/download/iphone\" r...</td>\n",
       "      <td>This is just downright precious af. 12/10 for ...</td>\n",
       "      <td>NaN</td>\n",
       "      <td>NaN</td>\n",
       "      <td>NaN</td>\n",
       "      <td>https://twitter.com/dog_rates/status/741067306...</td>\n",
       "      <td>12.0</td>\n",
       "      <td>10</td>\n",
       "      <td>just</td>\n",
       "      <td>doggo</td>\n",
       "      <td>None</td>\n",
       "      <td>pupper</td>\n",
       "      <td>None</td>\n",
       "      <td>3520</td>\n",
       "      <td>10342</td>\n",
       "    </tr>\n",
       "    <tr>\n",
       "      <th>689</th>\n",
       "      <td>733109485275860992</td>\n",
       "      <td>NaN</td>\n",
       "      <td>NaN</td>\n",
       "      <td>2016-05-19 01:38:16 +0000</td>\n",
       "      <td>&lt;a href=\"http://twitter.com/download/iphone\" r...</td>\n",
       "      <td>Like father (doggo), like son (pupper). Both 1...</td>\n",
       "      <td>NaN</td>\n",
       "      <td>NaN</td>\n",
       "      <td>NaN</td>\n",
       "      <td>https://twitter.com/dog_rates/status/733109485...</td>\n",
       "      <td>12.0</td>\n",
       "      <td>10</td>\n",
       "      <td>NaN</td>\n",
       "      <td>doggo</td>\n",
       "      <td>None</td>\n",
       "      <td>pupper</td>\n",
       "      <td>None</td>\n",
       "      <td>17621</td>\n",
       "      <td>44619</td>\n",
       "    </tr>\n",
       "  </tbody>\n",
       "</table>\n",
       "</div>"
      ],
      "text/plain": [
       "               tweet_id  in_reply_to_status_id  in_reply_to_user_id  \\\n",
       "116  855851453814013952                    NaN                  NaN   \n",
       "123  854010172552949760                    NaN                  NaN   \n",
       "327  801115127852503040                    NaN                  NaN   \n",
       "406  785639753186217984                    NaN                  NaN   \n",
       "528  759793422261743616                    NaN                  NaN   \n",
       "580  751583847268179968                    NaN                  NaN   \n",
       "654  741067306818797568                    NaN                  NaN   \n",
       "689  733109485275860992                    NaN                  NaN   \n",
       "\n",
       "                     timestamp  \\\n",
       "116  2017-04-22 18:31:02 +0000   \n",
       "123  2017-04-17 16:34:26 +0000   \n",
       "327  2016-11-22 17:28:25 +0000   \n",
       "406  2016-10-11 00:34:48 +0000   \n",
       "528  2016-07-31 16:50:42 +0000   \n",
       "580  2016-07-09 01:08:47 +0000   \n",
       "654  2016-06-10 00:39:48 +0000   \n",
       "689  2016-05-19 01:38:16 +0000   \n",
       "\n",
       "                                                source  \\\n",
       "116  <a href=\"http://twitter.com/download/iphone\" r...   \n",
       "123  <a href=\"http://twitter.com/download/iphone\" r...   \n",
       "327  <a href=\"http://twitter.com/download/iphone\" r...   \n",
       "406  <a href=\"http://twitter.com/download/iphone\" r...   \n",
       "528  <a href=\"http://twitter.com/download/iphone\" r...   \n",
       "580  <a href=\"http://twitter.com/download/iphone\" r...   \n",
       "654  <a href=\"http://twitter.com/download/iphone\" r...   \n",
       "689  <a href=\"http://twitter.com/download/iphone\" r...   \n",
       "\n",
       "                                                  text  retweeted_status_id  \\\n",
       "116  Here's a puppo participating in the #ScienceMa...                  NaN   \n",
       "123  At first I thought this was a shy doggo, but i...                  NaN   \n",
       "327  This is Bones. He's being haunted by another d...                  NaN   \n",
       "406  This is Pinot. He's a sophisticated doggo. You...                  NaN   \n",
       "528  Meet Maggie &amp; Lila. Maggie is the doggo, L...                  NaN   \n",
       "580  Please stop sending it pictures that don't eve...                  NaN   \n",
       "654  This is just downright precious af. 12/10 for ...                  NaN   \n",
       "689  Like father (doggo), like son (pupper). Both 1...                  NaN   \n",
       "\n",
       "     retweeted_status_user_id retweeted_status_timestamp  \\\n",
       "116                       NaN                        NaN   \n",
       "123                       NaN                        NaN   \n",
       "327                       NaN                        NaN   \n",
       "406                       NaN                        NaN   \n",
       "528                       NaN                        NaN   \n",
       "580                       NaN                        NaN   \n",
       "654                       NaN                        NaN   \n",
       "689                       NaN                        NaN   \n",
       "\n",
       "                                         expanded_urls  rating_numerator  \\\n",
       "116  https://twitter.com/dog_rates/status/855851453...              13.0   \n",
       "123  https://twitter.com/dog_rates/status/854010172...              11.0   \n",
       "327  https://twitter.com/dog_rates/status/801115127...              12.0   \n",
       "406  https://twitter.com/dog_rates/status/785639753...              10.0   \n",
       "528  https://twitter.com/dog_rates/status/759793422...              12.0   \n",
       "580  https://twitter.com/dog_rates/status/751583847...               5.0   \n",
       "654  https://twitter.com/dog_rates/status/741067306...              12.0   \n",
       "689  https://twitter.com/dog_rates/status/733109485...              12.0   \n",
       "\n",
       "     rating_denominator    name  doggo  floofer  pupper  puppo  retweet_count  \\\n",
       "116                  10     NaN  doggo     None    None  puppo          19196   \n",
       "123                  10     NaN  doggo  floofer    None   None           3433   \n",
       "327                  10   Bones  doggo     None  pupper   None           2429   \n",
       "406                  10   Pinot  doggo     None  pupper   None           2561   \n",
       "528                  10  Maggie  doggo     None  pupper   None           2173   \n",
       "580                  10     NaN  doggo     None  pupper   None           1265   \n",
       "654                  10    just  doggo     None  pupper   None           3520   \n",
       "689                  10     NaN  doggo     None  pupper   None          17621   \n",
       "\n",
       "     favorite_count  \n",
       "116           47844  \n",
       "123           17169  \n",
       "327            8992  \n",
       "406            8735  \n",
       "528            6620  \n",
       "580            4849  \n",
       "654           10342  \n",
       "689           44619  "
      ]
     },
     "execution_count": 19,
     "metadata": {},
     "output_type": "execute_result"
    }
   ],
   "source": [
    "df_merged.loc[(df_merged[['doggo', 'floofer', 'pupper', 'puppo']] != 'None').sum(axis=1) > 1]\n",
    "\n"
   ]
  },
  {
   "cell_type": "markdown",
   "metadata": {},
   "source": [
    "#### 4.5 Dropping \"expanded_urls\" with Nan value:\n",
    "##### 4.5.1 Define: \n",
    "\"expanded_urls\" has nearly 60 cell empty, these empty cells means that the tweet does not have an image attached to it, so we have dropped empty rows from the data frame as it is required in the project all tweets have images.\n",
    "##### 4.5.2 Code:"
   ]
  },
  {
   "cell_type": "code",
   "execution_count": 20,
   "metadata": {},
   "outputs": [],
   "source": [
    "df_merged = df_merged[df_merged['expanded_urls'].notna()]"
   ]
  },
  {
   "cell_type": "markdown",
   "metadata": {},
   "source": [
    "##### 4.5.3 Testing:"
   ]
  },
  {
   "cell_type": "code",
   "execution_count": 21,
   "metadata": {},
   "outputs": [
    {
     "name": "stdout",
     "output_type": "stream",
     "text": [
      "<class 'pandas.core.frame.DataFrame'>\n",
      "Int64Index: 1481 entries, 0 to 1517\n",
      "Data columns (total 19 columns):\n",
      "tweet_id                      1481 non-null object\n",
      "in_reply_to_status_id         15 non-null float64\n",
      "in_reply_to_user_id           15 non-null float64\n",
      "timestamp                     1481 non-null object\n",
      "source                        1481 non-null object\n",
      "text                          1481 non-null object\n",
      "retweeted_status_id           97 non-null float64\n",
      "retweeted_status_user_id      97 non-null float64\n",
      "retweeted_status_timestamp    97 non-null object\n",
      "expanded_urls                 1481 non-null object\n",
      "rating_numerator              1481 non-null float64\n",
      "rating_denominator            1481 non-null int64\n",
      "name                          991 non-null object\n",
      "doggo                         1481 non-null object\n",
      "floofer                       1481 non-null object\n",
      "pupper                        1481 non-null object\n",
      "puppo                         1481 non-null object\n",
      "retweet_count                 1481 non-null int64\n",
      "favorite_count                1481 non-null int64\n",
      "dtypes: float64(5), int64(3), object(11)\n",
      "memory usage: 231.4+ KB\n"
     ]
    }
   ],
   "source": [
    "df_merged.info()"
   ]
  },
  {
   "cell_type": "markdown",
   "metadata": {},
   "source": [
    "#### 4.6 Dropping \"retweeted_status_id\" with Nan value:\n",
    "#### 4.6.1 Define:\n",
    "\"retweeted_status_id\" this column indicates that the tweet is not original and its retweeted, so we have dropped rows that have values in that column.\n",
    "#### 4.6.2 Code:"
   ]
  },
  {
   "cell_type": "code",
   "execution_count": 22,
   "metadata": {},
   "outputs": [],
   "source": [
    "df_merged = df_merged[df_merged['retweeted_status_id'].isna()]"
   ]
  },
  {
   "cell_type": "markdown",
   "metadata": {},
   "source": [
    "##### 4.6.3 Testing:"
   ]
  },
  {
   "cell_type": "code",
   "execution_count": 23,
   "metadata": {},
   "outputs": [
    {
     "name": "stdout",
     "output_type": "stream",
     "text": [
      "<class 'pandas.core.frame.DataFrame'>\n",
      "Int64Index: 1384 entries, 0 to 1517\n",
      "Data columns (total 19 columns):\n",
      "tweet_id                      1384 non-null object\n",
      "in_reply_to_status_id         15 non-null float64\n",
      "in_reply_to_user_id           15 non-null float64\n",
      "timestamp                     1384 non-null object\n",
      "source                        1384 non-null object\n",
      "text                          1384 non-null object\n",
      "retweeted_status_id           0 non-null float64\n",
      "retweeted_status_user_id      0 non-null float64\n",
      "retweeted_status_timestamp    0 non-null object\n",
      "expanded_urls                 1384 non-null object\n",
      "rating_numerator              1384 non-null float64\n",
      "rating_denominator            1384 non-null int64\n",
      "name                          933 non-null object\n",
      "doggo                         1384 non-null object\n",
      "floofer                       1384 non-null object\n",
      "pupper                        1384 non-null object\n",
      "puppo                         1384 non-null object\n",
      "retweet_count                 1384 non-null int64\n",
      "favorite_count                1384 non-null int64\n",
      "dtypes: float64(5), int64(3), object(11)\n",
      "memory usage: 216.2+ KB\n"
     ]
    }
   ],
   "source": [
    "df_merged.info()"
   ]
  },
  {
   "cell_type": "markdown",
   "metadata": {},
   "source": [
    "#### 4.7 Drop retweets with in_reply_to_status_id.\n",
    "##### 4.7.1Define:\n",
    "they are tweets without images in them.\n",
    "##### 4.7.2 Code:"
   ]
  },
  {
   "cell_type": "code",
   "execution_count": 24,
   "metadata": {},
   "outputs": [],
   "source": [
    "df_merged = df_merged[df_merged['in_reply_to_status_id'].isna()]"
   ]
  },
  {
   "cell_type": "markdown",
   "metadata": {},
   "source": [
    "##### 4.7.3 Test:"
   ]
  },
  {
   "cell_type": "code",
   "execution_count": 25,
   "metadata": {},
   "outputs": [
    {
     "name": "stdout",
     "output_type": "stream",
     "text": [
      "<class 'pandas.core.frame.DataFrame'>\n",
      "Int64Index: 1369 entries, 0 to 1517\n",
      "Data columns (total 19 columns):\n",
      "tweet_id                      1369 non-null object\n",
      "in_reply_to_status_id         0 non-null float64\n",
      "in_reply_to_user_id           0 non-null float64\n",
      "timestamp                     1369 non-null object\n",
      "source                        1369 non-null object\n",
      "text                          1369 non-null object\n",
      "retweeted_status_id           0 non-null float64\n",
      "retweeted_status_user_id      0 non-null float64\n",
      "retweeted_status_timestamp    0 non-null object\n",
      "expanded_urls                 1369 non-null object\n",
      "rating_numerator              1369 non-null float64\n",
      "rating_denominator            1369 non-null int64\n",
      "name                          932 non-null object\n",
      "doggo                         1369 non-null object\n",
      "floofer                       1369 non-null object\n",
      "pupper                        1369 non-null object\n",
      "puppo                         1369 non-null object\n",
      "retweet_count                 1369 non-null int64\n",
      "favorite_count                1369 non-null int64\n",
      "dtypes: float64(5), int64(3), object(11)\n",
      "memory usage: 213.9+ KB\n"
     ]
    }
   ],
   "source": [
    "df_merged.info()"
   ]
  },
  {
   "cell_type": "markdown",
   "metadata": {},
   "source": [
    "#### 4.8 Convert timestamp into datetime format:\n",
    "##### 4.8.1 Define:\n",
    "Column timestamp, datatype is sting it was converted for timedate format for easier tweet time analysis process.\n",
    "##### 4.8.2 Code:"
   ]
  },
  {
   "cell_type": "code",
   "execution_count": 26,
   "metadata": {},
   "outputs": [],
   "source": [
    "df_merged['timestamp'] = df_merged['timestamp'].apply(str)\n",
    "df_merged['timestamp'] = df_merged['timestamp'].str.replace(' +0000','')\n",
    "df_merged['timestamp'] = pd.to_datetime(df_merged['timestamp'])"
   ]
  },
  {
   "cell_type": "markdown",
   "metadata": {},
   "source": [
    "##### 4.8.3 Test:"
   ]
  },
  {
   "cell_type": "code",
   "execution_count": 27,
   "metadata": {},
   "outputs": [
    {
     "name": "stdout",
     "output_type": "stream",
     "text": [
      "<class 'pandas.core.frame.DataFrame'>\n",
      "Int64Index: 1369 entries, 0 to 1517\n",
      "Data columns (total 19 columns):\n",
      "tweet_id                      1369 non-null object\n",
      "in_reply_to_status_id         0 non-null float64\n",
      "in_reply_to_user_id           0 non-null float64\n",
      "timestamp                     1369 non-null datetime64[ns]\n",
      "source                        1369 non-null object\n",
      "text                          1369 non-null object\n",
      "retweeted_status_id           0 non-null float64\n",
      "retweeted_status_user_id      0 non-null float64\n",
      "retweeted_status_timestamp    0 non-null object\n",
      "expanded_urls                 1369 non-null object\n",
      "rating_numerator              1369 non-null float64\n",
      "rating_denominator            1369 non-null int64\n",
      "name                          932 non-null object\n",
      "doggo                         1369 non-null object\n",
      "floofer                       1369 non-null object\n",
      "pupper                        1369 non-null object\n",
      "puppo                         1369 non-null object\n",
      "retweet_count                 1369 non-null int64\n",
      "favorite_count                1369 non-null int64\n",
      "dtypes: datetime64[ns](1), float64(5), int64(3), object(10)\n",
      "memory usage: 213.9+ KB\n"
     ]
    }
   ],
   "source": [
    "df_merged.info()"
   ]
  },
  {
   "cell_type": "markdown",
   "metadata": {},
   "source": [
    "#### 4.9 Fixing rating_nominator data:\n",
    "##### 4.9.1 Define:\n",
    "Column \"rating_nominator\" inconsistent data, 22 values are greater than 24 which are far from the average ratings. Those inconsistent 22 values have been filled by the median of the columns data, we have not used mean as it is already highly deviated due to the previously mentioned extremely large values like '1746'.\n",
    "##### 4.9.2 Code:"
   ]
  },
  {
   "cell_type": "code",
   "execution_count": 28,
   "metadata": {},
   "outputs": [],
   "source": [
    "df_merged['rating_numerator'].describe()\n",
    "\n",
    "for index, row in df_merged.iterrows():\n",
    "    #determined 24 as maximum value from visual check, few values above it.\n",
    "    median = df_merged['rating_numerator'].median()\n",
    "    if row['rating_numerator'] >= 24:\n",
    "            df_merged.loc[index,'rating_numerator'] = df_merged.loc[index,'rating_numerator'].fill(median)"
   ]
  },
  {
   "cell_type": "markdown",
   "metadata": {},
   "source": [
    "##### 4.9.3 Test"
   ]
  },
  {
   "cell_type": "code",
   "execution_count": 29,
   "metadata": {},
   "outputs": [
    {
     "data": {
      "text/plain": [
       "10.0    314\n",
       "12.0    312\n",
       "11.0    261\n",
       "13.0    175\n",
       "9.0      97\n",
       "8.0      67\n",
       "7.0      35\n",
       "6.0      22\n",
       "14.0     20\n",
       "5.0      19\n",
       "4.0      13\n",
       "3.0      13\n",
       "2.0       5\n",
       "1.0       4\n",
       "Name: rating_numerator, dtype: int64"
      ]
     },
     "execution_count": 29,
     "metadata": {},
     "output_type": "execute_result"
    }
   ],
   "source": [
    "df_merged['rating_numerator'].value_counts()      "
   ]
  },
  {
   "cell_type": "markdown",
   "metadata": {},
   "source": [
    "#### 4.10 Fixing rating_denominator data:\n",
    "##### 4.10.1 Define:\n",
    "Column \"rating_denominator\" inconsistent data, values are not exactly 10, some values above some below. Which is not valid for our scale. Scales has a denominator of 10, we have refilled such cells with 10 as denominator.\n",
    "##### 4.10.2 Code:"
   ]
  },
  {
   "cell_type": "code",
   "execution_count": 30,
   "metadata": {},
   "outputs": [],
   "source": [
    "df_merged['rating_denominator'].value_counts() \n",
    "\n",
    "for index, row in df_merged.iterrows():\n",
    "    #determined 40 as maximum value from visual check, few values above it.\n",
    "    denominator = 10\n",
    "    if row['rating_denominator'] != 10:\n",
    "            df_merged.loc[index,'rating_denominator'] = df_merged.loc[index,'rating_denominator'].fill(denominator)"
   ]
  },
  {
   "cell_type": "markdown",
   "metadata": {},
   "source": [
    "##### 4.10.3 Test:"
   ]
  },
  {
   "cell_type": "code",
   "execution_count": 31,
   "metadata": {},
   "outputs": [
    {
     "data": {
      "text/plain": [
       "10.0    1359\n",
       "Name: rating_denominator, dtype: int64"
      ]
     },
     "execution_count": 31,
     "metadata": {},
     "output_type": "execute_result"
    }
   ],
   "source": [
    "df_merged['rating_denominator'].value_counts()"
   ]
  },
  {
   "cell_type": "markdown",
   "metadata": {},
   "source": [
    "#### 4.11 Merging dog stage four columns into one column:\n",
    "##### 4.11.1 Define:\n",
    "Columns \"doggo, floofer, pupper, puppo\" should be only one value selected, some row have multiple selection of these. Rows with duplicated dog age input has been fixed to include only one age, replacement has been put to multiple if tweet has more than one dog stage. rows without age data has been filled with np.nan instead of None of easy filtering and data assessing.\n",
    "\n",
    "The Four cloumns \"doggo, floofer, pupper, puppo\" have been merged on one column called 'age'\n",
    "##### 4.11.2 Code:"
   ]
  },
  {
   "cell_type": "code",
   "execution_count": 32,
   "metadata": {},
   "outputs": [],
   "source": [
    "names = ['doggo', 'floofer', 'pupper', 'puppo']\n",
    "\n",
    "#I have replaced None with \"\" instead of np.nan to make merging easy\n",
    "df_merged[names] = df_merged[names].replace(\"None\", \"\")\n",
    "\n",
    "\n",
    "#merging four columns into one:\n",
    "#df_merged['age'] = df_merged.doggo + df_merged.floofer + df_merged.pupper + df_merged.puppo\n",
    "df_merged['age'] = df_merged[names].apply(lambda x: ''.join(x.values.astype(str)), axis=1)\n",
    "\n",
    "\n",
    "#drop old columns after merging data\n",
    "df_merged.drop(names, axis = 1, inplace=True)\n",
    "\n",
    "#replace \"\" with np.nan for better filtering and analysis\n",
    "df_merged.age.replace(\"\", np.nan, inplace=True)\n",
    "\n",
    "#check data\n",
    "df_merged.to_csv('test.csv')\n",
    "\n",
    "\n",
    "#replacing combined ages with multiple as single value for\n",
    "age_list = list(df_merged.age.unique())\n",
    "cleaning_items = list(set(age_list) - set(names))\n",
    "for i in cleaning_items:\n",
    "    if i != np.nan:\n",
    "        df_merged['age'] = df_merged['age'].dropna().replace(i, 'multiple')\n",
    "    \n",
    "\n"
   ]
  },
  {
   "cell_type": "markdown",
   "metadata": {},
   "source": [
    "##### 4.11.3 Test"
   ]
  },
  {
   "cell_type": "code",
   "execution_count": 33,
   "metadata": {},
   "outputs": [
    {
     "data": {
      "text/plain": [
       "array([nan, 'pupper', 'puppo', 'doggo', 'multiple', 'floofer'], dtype=object)"
      ]
     },
     "execution_count": 33,
     "metadata": {},
     "output_type": "execute_result"
    }
   ],
   "source": [
    "df_merged['age'].unique()"
   ]
  },
  {
   "cell_type": "markdown",
   "metadata": {},
   "source": [
    "#### 4.12 dropping columns with empty data:\n",
    "##### 4.12.1 Define:\n",
    "Empty unnecessary rows have been dropped from the dataframe df_merged like columns ['in_reply_to_status_id', 'in_reply_to_user_id', 'retweeted_status_id', 'retweeted_status_user_id', 'retweeted_status_timestamp'].\n",
    "##### 4.12.2 Code:"
   ]
  },
  {
   "cell_type": "code",
   "execution_count": 34,
   "metadata": {},
   "outputs": [],
   "source": [
    "#drop empty columns from df_merged:\n",
    "empty_columns = ['in_reply_to_status_id', 'in_reply_to_user_id', 'retweeted_status_id',\n",
    "                'retweeted_status_user_id', 'retweeted_status_timestamp']\n",
    "df_merged.drop(empty_columns, axis=1, inplace=True)"
   ]
  },
  {
   "cell_type": "markdown",
   "metadata": {},
   "source": [
    "##### 4.12.3 Test:"
   ]
  },
  {
   "cell_type": "code",
   "execution_count": 35,
   "metadata": {},
   "outputs": [
    {
     "name": "stdout",
     "output_type": "stream",
     "text": [
      "<class 'pandas.core.frame.DataFrame'>\n",
      "Int64Index: 1369 entries, 0 to 1517\n",
      "Data columns (total 11 columns):\n",
      "tweet_id              1369 non-null object\n",
      "timestamp             1369 non-null datetime64[ns]\n",
      "source                1369 non-null object\n",
      "text                  1369 non-null object\n",
      "expanded_urls         1369 non-null object\n",
      "rating_numerator      1357 non-null float64\n",
      "rating_denominator    1359 non-null float64\n",
      "name                  932 non-null object\n",
      "retweet_count         1369 non-null int64\n",
      "favorite_count        1369 non-null int64\n",
      "age                   225 non-null object\n",
      "dtypes: datetime64[ns](1), float64(2), int64(2), object(6)\n",
      "memory usage: 168.3+ KB\n"
     ]
    }
   ],
   "source": [
    "df_merged.info()"
   ]
  },
  {
   "cell_type": "markdown",
   "metadata": {},
   "source": [
    "### 5. Data Storage: \n",
    "data has been store into two data files, twitter_archive_master.csv and images_df.csv"
   ]
  },
  {
   "cell_type": "code",
   "execution_count": 36,
   "metadata": {},
   "outputs": [],
   "source": [
    "#Storing\n",
    "df_merged.to_csv('twitter_archive_master.csv', index=False)\n",
    "images_df.to_csv('images_df.csv', index=False)\n"
   ]
  },
  {
   "cell_type": "markdown",
   "metadata": {},
   "source": [
    "### 6. Reporting on data wrangling efforts:\n",
    "\n",
    "\n",
    "#### 6.1 Data Gathering:\n",
    "data has been gather as per project specifications\n",
    "\n",
    "#### 6.2 Data Cleaning:\n",
    "1- rating_numerator should be float type to extract ratings with floats correctly.\n",
    "2- tweet_id data type is float, it should be string for easy merging data from api_df with data on twitter_rchive_enhanced using tweet_id as key for merging. \n",
    "\n",
    "3- Merging data from api_df_clean and archive_df_clean into one data frame df_merged:Tweets data from API should be all merged into one table, I have extracted important data from api_df columns'retweet_count', 'favorite_count' and merged them using 'id_str column as the key in to df_merged data frame.\n",
    "\n",
    "4- dog names are missing data for 745 cell with none value. We have used regular expression to repeat the extraction process for any additional names found in text column. Rows without name extracted have been converted to Nan using np.nan for easy operation on the data.\n",
    "\n",
    "5- \"expanded_urls\" has nearly 60 cell empty, these empty cells means that the tweet does not have an image attached to it, so we have dropped empty rows from the data frame as it is required in the project all tweets have images.\n",
    "\n",
    "6- \"retweeted_status_id\" this column indicates that the tweet is not original and its retweeted, so we have dropped rows that have values in that column.\n",
    "\n",
    "7- in_reply_to_status_id: this means tweets in not original, so we have dropped rows that have values in that column.\n",
    "\n",
    "8- Column timestamp, datatype is sting it was converted for timedate format for easier tweet time analysis process.\n",
    "\n",
    "9- Column \"rating_nominator\" inconsistent data, 22 values are greater than 24 which are far from the average ratings. Those inconsistent 22 values have been filled by the median of the columns data, we have not used mean as it is already highly deviated due to the previously mentioned extremely large values like '1746'. \n",
    "\n",
    "10- Column \"rating_denominator\" inconsistent data, values are not exactly 10, some values above some below. Which is not valid for our scale. Scales has a denominator of 10, we have refilled such cells with 10 as denominator.\n",
    "\n",
    "11- Columns \"doggo, floofer, pupper, puppo\" should be only one value selected, some row have multiple selection of these. Rows with duplicated dog age input has been fixed to include only one age, replacement has been put to multiple if tweet has more than one dog stage. rows without age data has been filled with np.nan instead of None of easy filtering and data assessing\n",
    "\n",
    "The Four cloumns \"doggo, floofer, pupper, puppo\" have been merged on one column called 'age'\n",
    "\n",
    "12- Empty unnecessary rows have been dropped from the dataframe df_merged like columns ['in_reply_to_status_id', 'in_reply_to_user_id', 'retweeted_status_id',\n",
    "                'retweeted_status_user_id', 'retweeted_status_timestamp'].\n",
    "                \n",
    "13- data has been store into two data files, twitter_archive_master.csv and images_df.csv\n"
   ]
  },
  {
   "cell_type": "markdown",
   "metadata": {},
   "source": [
    "### 7. Reporting data analyses and visualizations:"
   ]
  },
  {
   "cell_type": "code",
   "execution_count": 37,
   "metadata": {},
   "outputs": [],
   "source": [
    "#time of twitting:\n",
    "df_merged['month'] = df_merged['timestamp'].dt.month\n",
    "df_merged['year'] = df_merged['timestamp'].dt.year\n",
    "df_merged['hour'] = df_merged['timestamp'].dt.hour\n",
    "df_merged['day_name'] = df_merged['timestamp'].dt.day_name()\n",
    "\n",
    "df_merged.hist(figsize=(8,8));\n",
    "\n"
   ]
  },
  {
   "cell_type": "markdown",
   "metadata": {},
   "source": [
    "From df_merged Histogram for (Tweet publish hours, Tweet publish month, Tweet publishing year, numerator):\n",
    "\n",
    "Tweet publish hours: most of tweets was published after hour 15:00 till 5:00 AM, peak hour was from 12:00 to 1:00 AM.\n",
    "\n",
    "Tweet publish month: most of tweet are punlished in winter/cold months like december and jan.\n",
    "\n",
    "Tweet publishing year: WeRateDogs trend increased from 2015 to 2016 then begins to fall  at 2017, trend peak was at 2016.\n",
    "\n",
    "most of rating numerator was above 10 while denominator has a fixed value of 10."
   ]
  },
  {
   "cell_type": "code",
   "execution_count": 38,
   "metadata": {},
   "outputs": [
    {
     "data": {
      "text/plain": [
       "Text(0.5,1,'tweets count in week days')"
      ]
     },
     "execution_count": 38,
     "metadata": {},
     "output_type": "execute_result"
    },
    {
     "data": {
      "image/png": "[encoded data removed]",
      "text/plain": [
       "<matplotlib.figure.Figure at 0x7f75b19fdc50>"
      ]
     },
     "metadata": {
      "needs_background": "light"
     },
     "output_type": "display_data"
    }
   ],
   "source": [
    "#distribution of tweets in week days.\n",
    "week_days = ['Monday', 'Tuesday', 'Wednesday', 'Thursday','Friday', 'Saturday', 'Sunday']\n",
    "values = df_merged['day_name'].value_counts()\n",
    "import matplotlib.pyplot as plt\n",
    "plt.figure(figsize=(8,8));\n",
    "plt.bar(week_days, values);\n",
    "\n",
    "plt.ylabel('count of tweets')\n",
    "plt.title('tweets count in week days')\n",
    "#plt.savefig('tweets count in week days.png')\n"
   ]
  },
  {
   "cell_type": "markdown",
   "metadata": {},
   "source": [
    "from figure tweets count in week days: Publishing tweets was least at weekends Sat, Sun. its peak was on Monday at the beginning of the week."
   ]
  },
  {
   "cell_type": "code",
   "execution_count": 39,
   "metadata": {
    "scrolled": true
   },
   "outputs": [
    {
     "data": {
      "text/plain": [
       "<matplotlib.legend.Legend at 0x7f75b1911710>"
      ]
     },
     "execution_count": 39,
     "metadata": {},
     "output_type": "execute_result"
    },
    {
     "data": {
      "image/png": "[encoded data removed]",
      "text/plain": [
       "<matplotlib.figure.Figure at 0x7f75b194e5f8>"
      ]
     },
     "metadata": {
      "needs_background": "light"
     },
     "output_type": "display_data"
    }
   ],
   "source": [
    "favorite_count = df_merged.groupby('age').favorite_count.mean()\n",
    "retweet_count  = df_merged.groupby('age').retweet_count.mean()\n",
    "numerator_avg = df_merged.groupby('age').rating_numerator.mean()\n",
    "\n",
    "\n",
    "x1 = np.arange(len(list(df_merged.age.dropna().unique()))) #horizontal axes\n",
    "x2 = np.arange(len(list(df_merged.age.dropna().unique())))\n",
    "x3 = np.arange(len(list(df_merged.age.dropna().unique())))\n",
    "width = .2      # the width of the bars\n",
    "\n",
    "favorite_count = plt.bar(x1, favorite_count, width, color='r', alpha=.7, label='favorite_counts_average')\n",
    "retweet_count = plt.bar(x2 + width, retweet_count, width , color='g', alpha=.7, label='retweet_count_average')\n",
    "numerator_avg = plt.bar(x3 + 2*width, numerator_avg*1000, width , color='b', alpha=.7, label='rating_numerator_avg*1000')\n",
    "\n",
    "\n",
    "plt.ylabel('average value')\n",
    "plt.xlabel('age')\n",
    "plt.title('favourite & retweet counts average')\n",
    "locations = x1 + width / 2  # xtick location\n",
    "labels = list(df_merged.age.dropna().unique())  # xtick labels\n",
    "plt.xticks(locations, labels)\n",
    "plt.legend()\n",
    "#plt.savefig('favourite & retweet counts average')"
   ]
  },
  {
   "cell_type": "code",
   "execution_count": 40,
   "metadata": {},
   "outputs": [],
   "source": [
    "#plt.savefig('favourite & retweet counts average')"
   ]
  },
  {
   "cell_type": "markdown",
   "metadata": {},
   "source": [
    "favorite & retweet counts average figure illustrate the average retweet and favorite for \n",
    "each doge age ('doggo', 'floofer', 'pupper', 'puppo'). it is appear that people prefer to hit\n",
    "favorite than retweeting liked images. all of favorite images average are greater than retweet\n",
    "count. \n",
    "\n",
    "Favorite count and retweet counts directly proportional to each other, values with higher favorite\n",
    "counts have higher retweet count. dog ages floofer and pupper are the most preferred images.\n",
    "\n",
    "rating_numerator_avg has been added to the previous figure to compare rating numerator with retweet and\n",
    "favorite count. numerator was multiplied by 1000 on the figure plotting to put data on same Y axis as the\n",
    "real numerator values was much less than favorite and retweet counts.\n",
    "\n",
    "it was found that rating numerator does not show any difference between dogs ages,\n",
    "all of ages have similar average rating.\n",
    "\n",
    "rating does not effectively reflex the user interest in the image like retweet and favorite. retweet and\n",
    "favorite seems more reliable in evaluating image quality.\n"
   ]
  },
  {
   "cell_type": "code",
   "execution_count": null,
   "metadata": {},
   "outputs": [],
   "source": []
  }
 ],
 "metadata": {
  "kernelspec": {
   "display_name": "Python 3",
   "language": "python",
   "name": "python3"
  },
  "language_info": {
   "codemirror_mode": {
    "name": "ipython",
    "version": 3
   },
   "file_extension": ".py",
   "mimetype": "text/x-python",
   "name": "python",
   "nbconvert_exporter": "python",
   "pygments_lexer": "ipython3",
   "version": "3.6.3"
  }
 },
 "nbformat": 4,
 "nbformat_minor": 2
}
